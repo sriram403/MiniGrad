{
 "cells": [
  {
   "cell_type": "code",
   "execution_count": 31,
   "id": "dddd1bba",
   "metadata": {},
   "outputs": [],
   "source": [
    "class Vision:\n",
    "    def __init__(self,data):\n",
    "        self.data = data\n",
    "    \n",
    "    def _show(self):\n",
    "        return self.data\n",
    "    \n",
    "    def add(self,other):\n",
    "        print(self,other)\n",
    "        return self.data +\" \"+ other.data\n",
    "    \n",
    "    def __repr__(self):\n",
    "        return f\"the vision class\""
   ]
  },
  {
   "cell_type": "code",
   "execution_count": 32,
   "id": "bdff5001",
   "metadata": {},
   "outputs": [
    {
     "data": {
      "text/plain": [
       "'start'"
      ]
     },
     "execution_count": 32,
     "metadata": {},
     "output_type": "execute_result"
    }
   ],
   "source": [
    "v = Vision(\"start\")\n",
    "v._show()"
   ]
  },
  {
   "cell_type": "code",
   "execution_count": 33,
   "id": "f2d115da",
   "metadata": {},
   "outputs": [],
   "source": [
    "a = Vision(\"countdown\")"
   ]
  },
  {
   "cell_type": "code",
   "execution_count": 34,
   "id": "8ced118a",
   "metadata": {},
   "outputs": [
    {
     "name": "stdout",
     "output_type": "stream",
     "text": [
      "the vision class the vision class\n"
     ]
    },
    {
     "data": {
      "text/plain": [
       "'start countdown'"
      ]
     },
     "execution_count": 34,
     "metadata": {},
     "output_type": "execute_result"
    }
   ],
   "source": [
    "v.add(a)"
   ]
  },
  {
   "cell_type": "code",
   "execution_count": 36,
   "id": "09949698",
   "metadata": {},
   "outputs": [],
   "source": [
    "class myadd:\n",
    "    def __init__(self,data,prev=\"\"):\n",
    "        self.data = data\n",
    "        self.prev = prev\n",
    "        self._change_func = None\n",
    "        self.changable_id = 0\n",
    "    \n",
    "    def __add__(self,other):\n",
    "        o = myadd(self.data + other.data,(self,other))\n",
    "        def _change_func():\n",
    "            self.changable_id = self.data * other.data\n",
    "            other.changable_id = self.data* other.data\n",
    "        o._change_func = _change_func\n",
    "        return o\n",
    "        \n",
    "    def __repr__(self):\n",
    "        return f\"Data: {self.data}\""
   ]
  },
  {
   "cell_type": "code",
   "execution_count": 37,
   "id": "21eadc22",
   "metadata": {},
   "outputs": [
    {
     "data": {
      "text/plain": [
       "(Data: 3, Data: 2)"
      ]
     },
     "execution_count": 37,
     "metadata": {},
     "output_type": "execute_result"
    }
   ],
   "source": [
    "a = myadd(3)\n",
    "b = myadd(2)\n",
    "a,b"
   ]
  },
  {
   "cell_type": "code",
   "execution_count": 38,
   "id": "75d0c6bb",
   "metadata": {},
   "outputs": [
    {
     "data": {
      "text/plain": [
       "Data: 5"
      ]
     },
     "execution_count": 38,
     "metadata": {},
     "output_type": "execute_result"
    }
   ],
   "source": [
    "a.__add__(b)"
   ]
  },
  {
   "cell_type": "code",
   "execution_count": 35,
   "id": "b2dab1ff",
   "metadata": {},
   "outputs": [
    {
     "data": {
      "text/plain": [
       "3"
      ]
     },
     "execution_count": 35,
     "metadata": {},
     "output_type": "execute_result"
    }
   ],
   "source": [
    "1+2"
   ]
  },
  {
   "cell_type": "code",
   "execution_count": 34,
   "id": "c2f9257b",
   "metadata": {},
   "outputs": [
    {
     "ename": "TypeError",
     "evalue": "unsupported operand type(s) for +: 'myadd' and 'myadd'",
     "output_type": "error",
     "traceback": [
      "\u001b[1;31m---------------------------------------------------------------------------\u001b[0m",
      "\u001b[1;31mTypeError\u001b[0m                                 Traceback (most recent call last)",
      "\u001b[1;32m~\\AppData\\Local\\Temp\\ipykernel_9076\\3553919051.py\u001b[0m in \u001b[0;36m<module>\u001b[1;34m\u001b[0m\n\u001b[1;32m----> 1\u001b[1;33m \u001b[0ma\u001b[0m\u001b[1;33m+\u001b[0m\u001b[0mb\u001b[0m\u001b[1;33m\u001b[0m\u001b[1;33m\u001b[0m\u001b[0m\n\u001b[0m",
      "\u001b[1;31mTypeError\u001b[0m: unsupported operand type(s) for +: 'myadd' and 'myadd'"
     ]
    }
   ],
   "source": [
    "a+b"
   ]
  },
  {
   "cell_type": "code",
   "execution_count": 23,
   "id": "b9c765b9",
   "metadata": {},
   "outputs": [],
   "source": [
    "c = a+b"
   ]
  },
  {
   "cell_type": "code",
   "execution_count": 24,
   "id": "9ff9f77a",
   "metadata": {},
   "outputs": [
    {
     "data": {
      "text/plain": [
       "Data: 5"
      ]
     },
     "execution_count": 24,
     "metadata": {},
     "output_type": "execute_result"
    }
   ],
   "source": [
    "c"
   ]
  },
  {
   "cell_type": "code",
   "execution_count": 25,
   "id": "380f469b",
   "metadata": {},
   "outputs": [
    {
     "data": {
      "text/plain": [
       "0"
      ]
     },
     "execution_count": 25,
     "metadata": {},
     "output_type": "execute_result"
    }
   ],
   "source": [
    "c.changable_id"
   ]
  },
  {
   "cell_type": "code",
   "execution_count": 26,
   "id": "6c959b7a",
   "metadata": {},
   "outputs": [
    {
     "data": {
      "text/plain": [
       "0"
      ]
     },
     "execution_count": 26,
     "metadata": {},
     "output_type": "execute_result"
    }
   ],
   "source": [
    "a.changable_id"
   ]
  },
  {
   "cell_type": "code",
   "execution_count": 27,
   "id": "68967de0",
   "metadata": {},
   "outputs": [],
   "source": [
    "c._change_func()"
   ]
  },
  {
   "cell_type": "code",
   "execution_count": 28,
   "id": "2051f310",
   "metadata": {},
   "outputs": [
    {
     "data": {
      "text/plain": [
       "6"
      ]
     },
     "execution_count": 28,
     "metadata": {},
     "output_type": "execute_result"
    }
   ],
   "source": [
    "a.changable_id"
   ]
  },
  {
   "cell_type": "code",
   "execution_count": 29,
   "id": "768dcf2b",
   "metadata": {},
   "outputs": [
    {
     "data": {
      "text/plain": [
       "6"
      ]
     },
     "execution_count": 29,
     "metadata": {},
     "output_type": "execute_result"
    }
   ],
   "source": [
    "b.changable_id"
   ]
  },
  {
   "cell_type": "code",
   "execution_count": 5,
   "id": "0f2fc86d",
   "metadata": {},
   "outputs": [],
   "source": [
    "def add(a,b):\n",
    "    c = a+b\n",
    "    z = None\n",
    "    def mul():\n",
    "        z = a*b\n",
    "    return c"
   ]
  },
  {
   "cell_type": "code",
   "execution_count": 7,
   "id": "dec7c7fb",
   "metadata": {},
   "outputs": [
    {
     "ename": "AttributeError",
     "evalue": "'int' object has no attribute 'mul'",
     "output_type": "error",
     "traceback": [
      "\u001b[1;31m---------------------------------------------------------------------------\u001b[0m",
      "\u001b[1;31mAttributeError\u001b[0m                            Traceback (most recent call last)",
      "\u001b[1;32m~\\AppData\\Local\\Temp\\ipykernel_3244\\2011563357.py\u001b[0m in \u001b[0;36m<module>\u001b[1;34m\u001b[0m\n\u001b[0;32m      1\u001b[0m \u001b[0mt\u001b[0m \u001b[1;33m=\u001b[0m \u001b[0madd\u001b[0m\u001b[1;33m(\u001b[0m\u001b[1;36m1\u001b[0m\u001b[1;33m,\u001b[0m\u001b[1;36m2\u001b[0m\u001b[1;33m)\u001b[0m\u001b[1;33m\u001b[0m\u001b[1;33m\u001b[0m\u001b[0m\n\u001b[1;32m----> 2\u001b[1;33m \u001b[0mt\u001b[0m\u001b[1;33m.\u001b[0m\u001b[0mmul\u001b[0m\u001b[1;33m(\u001b[0m\u001b[1;33m)\u001b[0m\u001b[1;33m\u001b[0m\u001b[1;33m\u001b[0m\u001b[0m\n\u001b[0m",
      "\u001b[1;31mAttributeError\u001b[0m: 'int' object has no attribute 'mul'"
     ]
    }
   ],
   "source": [
    "t = add(1,2)\n"
   ]
  },
  {
   "cell_type": "code",
   "execution_count": null,
   "id": "939a380b",
   "metadata": {},
   "outputs": [],
   "source": []
  }
 ],
 "metadata": {
  "kernelspec": {
   "display_name": "Python 3 (ipykernel)",
   "language": "python",
   "name": "python3"
  },
  "language_info": {
   "codemirror_mode": {
    "name": "ipython",
    "version": 3
   },
   "file_extension": ".py",
   "mimetype": "text/x-python",
   "name": "python",
   "nbconvert_exporter": "python",
   "pygments_lexer": "ipython3",
   "version": "3.9.15"
  },
  "toc": {
   "base_numbering": 1,
   "nav_menu": {},
   "number_sections": true,
   "sideBar": true,
   "skip_h1_title": false,
   "title_cell": "Table of Contents",
   "title_sidebar": "Contents",
   "toc_cell": false,
   "toc_position": {},
   "toc_section_display": true,
   "toc_window_display": false
  }
 },
 "nbformat": 4,
 "nbformat_minor": 5
}
